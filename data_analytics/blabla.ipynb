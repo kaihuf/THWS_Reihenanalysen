{
 "cells": [
  {
   "cell_type": "code",
   "execution_count": 2,
   "metadata": {},
   "outputs": [],
   "source": [
    "import os\n",
    "import pandas as pd\n",
    "\n",
    "samsung_data = pd.read_csv(os.path.join(\"../data\", \"005930.ks_aktien_daten.csv\"))\n",
    "daimler_data = pd.read_csv(os.path.join(\"../data\", \"mbg.de_aktien_daten.csv\"))\n",
    "microsoft_data = pd.read_csv(os.path.join(\"../data\", \"msft_aktien_daten.csv\"))"
   ]
  },
  {
   "cell_type": "code",
   "execution_count": null,
   "metadata": {},
   "outputs": [],
   "source": []
  }
 ],
 "metadata": {
  "kernelspec": {
   "display_name": "Python 3",
   "language": "python",
   "name": "python3"
  },
  "language_info": {
   "codemirror_mode": {
    "name": "ipython",
    "version": 3
   },
   "file_extension": ".py",
   "mimetype": "text/x-python",
   "name": "python",
   "nbconvert_exporter": "python",
   "pygments_lexer": "ipython3",
   "version": "3.9.6"
  }
 },
 "nbformat": 4,
 "nbformat_minor": 2
}
