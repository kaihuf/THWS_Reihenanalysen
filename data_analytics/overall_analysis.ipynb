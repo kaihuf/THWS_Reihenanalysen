{
 "cells": [
  {
   "cell_type": "markdown",
   "id": "3b4a0285",
   "metadata": {},
   "source": [
    "# Allgemine Analyse\n",
    "\n",
    "*Kai, Andrew und Fabian*\n",
    "\n",
    "---\n",
    "\n",
    "## 1. Bestimmung der Integrationsordnung\n",
    "\n",
    "- Augmented Dickey-Fuller Test (ADF-Test)\n",
    "- Phillips-Perron Test (PP-Test)\n",
    "- Kwiatkowski-Phillips-Schmidt-Shin Test (KPSS-Test)\n",
    "\n",
    "\n",
    "## 2. Transformation zur Stationarität\n",
    "\n",
    "- Differenzierung\n",
    "- Erste Differenz: $y_t - y_{t-1}$\n",
    "- Zweite Differenz: $(y_t - y_{t-1}) - (y_{t-1} - y_{t-2})$\n",
    "- Logarithmische Transformation\n",
    "- Moving Average\n",
    "- Simple Exponential Smoothing\n",
    "- HP-Filter (Hodrick-Prescott-Filter)\n",
    "\n",
    "\n",
    "## 3. ACF und PACF Analyse\n",
    "\n",
    "- Autokorrelationsfunktion (ACF)\n",
    "- Partielle Autokorrelationsfunktion (PACF)\n",
    "\n",
    "\n",
    "## 4. Modellspezifikation\n",
    "\n",
    "- AR-Modelle (Autoregressive)\n",
    "- MA-Modelle (Moving Average)\n",
    "- ARMA-Modelle\n",
    "- ARIMA-Modelle\n",
    "- Auto-ARIMA-Modell"
   ]
  },
  {
   "cell_type": "markdown",
   "id": "7cc02498",
   "metadata": {},
   "source": []
  },
  {
   "cell_type": "markdown",
   "id": "82f9c1f2",
   "metadata": {},
   "source": []
  }
 ],
 "metadata": {
  "kernelspec": {
   "display_name": "Python 3",
   "language": "python",
   "name": "python3"
  },
  "language_info": {
   "name": "python",
   "version": "3.10.7"
  }
 },
 "nbformat": 4,
 "nbformat_minor": 5
}
