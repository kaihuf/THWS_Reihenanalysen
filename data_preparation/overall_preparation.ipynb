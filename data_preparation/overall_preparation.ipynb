{
 "cells": [
  {
   "cell_type": "markdown",
   "metadata": {},
   "source": [
    "# Inhaltsverzeichnis des Skripts:\n",
    "\n",
    "[[_TOC_]]\n",
    "\n",
    "---\n",
    "\n",
    "### Vorliegende Datentyp:\n",
    "\n",
    "**quantitative Daten auf Kardinalskala**\n",
    "\n",
    "*Vorliegende Columns:*\n",
    "\n",
    "- **Date:** Datum\n",
    "- **Open:** Eröffnungskurs\n",
    "- **High:** Höchstkurs\n",
    "- **Low:** Tiefkurs\n",
    "- **Close:** Schlusskurs\n",
    "- **Volume:** Handelsvolumen"
   ]
  },
  {
   "cell_type": "code",
   "execution_count": 1,
   "metadata": {},
   "outputs": [
    {
     "name": "stderr",
     "output_type": "stream",
     "text": [
      "/Users/kaihufnagel/Library/Python/3.9/lib/python/site-packages/urllib3/__init__.py:35: NotOpenSSLWarning: urllib3 v2 only supports OpenSSL 1.1.1+, currently the 'ssl' module is compiled with 'LibreSSL 2.8.3'. See: https://github.com/urllib3/urllib3/issues/3020\n",
      "  warnings.warn(\n"
     ]
    }
   ],
   "source": [
    "########################################################\n",
    "#--------------- benötigten Librarys ------------------#\n",
    "########################################################\n",
    "\n",
    "import yfinance as yf\n",
    "import pandas as pd\n",
    "import numpy as np\n",
    "import matplotlib.pyplot as plt"
   ]
  },
  {
   "cell_type": "markdown",
   "metadata": {},
   "source": [
    "### Download und Speicherung der Datei"
   ]
  },
  {
   "cell_type": "code",
   "execution_count": null,
   "metadata": {},
   "outputs": [
    {
     "name": "stdout",
     "output_type": "stream",
     "text": [
      "Daten wurden in /Users/kaihufnagel/Documents/BBA/6. Semester/SP BBA/Menden/THWS_Reihenanalysen/data/microsoft_aktien_daten.csv gespeichert.\n",
      "+------------------------------------------------+\n",
      "|   Allgemeine Informationen der Aktien-Daten    |\n",
      "+------------------------------------------------+ \n",
      "\n",
      "<class 'pandas.core.frame.DataFrame'>\n",
      "DatetimeIndex: 9867 entries, 1986-03-13 00:00:00-05:00 to 2025-05-09 00:00:00-04:00\n",
      "Data columns (total 7 columns):\n",
      " #   Column        Non-Null Count  Dtype  \n",
      "---  ------        --------------  -----  \n",
      " 0   Open          9867 non-null   float64\n",
      " 1   High          9867 non-null   float64\n",
      " 2   Low           9867 non-null   float64\n",
      " 3   Close         9867 non-null   float64\n",
      " 4   Volume        9867 non-null   int64  \n",
      " 5   Dividends     9867 non-null   float64\n",
      " 6   Stock Splits  9867 non-null   float64\n",
      "dtypes: float64(6), int64(1)\n",
      "memory usage: 616.7 KB\n",
      "\n",
      "\n",
      "\n",
      "+------------------------------------------------+\n",
      "| Statistische Zusammenfassung der Aktien-Daten  |\n",
      "+------------------------------------------------+ \n",
      "\n",
      "              Open         High          Low        Close        Volume  \\\n",
      "count  9867.000000  9867.000000  9867.000000  9867.000000  9.867000e+03   \n",
      "mean     59.611990    60.209838    58.997214    59.628807  5.609370e+07   \n",
      "std     102.006093   102.958104   101.006902   102.033717  3.808813e+07   \n",
      "min       0.054376     0.056509     0.054376     0.055442  2.304000e+06   \n",
      "25%       3.684783     3.730364     3.634406     3.677588  3.115400e+07   \n",
      "50%      19.334400    19.527591    19.095786    19.321768  4.921190e+07   \n",
      "75%      40.771061    41.154929    40.439014    40.783421  7.004480e+07   \n",
      "max     464.297590   465.639777   461.772294   464.854340  1.031789e+09   \n",
      "\n",
      "         Dividends  Stock Splits  \n",
      "count  9867.000000   9867.000000  \n",
      "mean      0.003167      0.001723  \n",
      "std       0.048136      0.057369  \n",
      "min       0.000000      0.000000  \n",
      "25%       0.000000      0.000000  \n",
      "50%       0.000000      0.000000  \n",
      "75%       0.000000      0.000000  \n",
      "max       3.080000      2.000000  \n"
     ]
    }
   ],
   "source": [
    "def download_stock_data(ticker_symbol, time_period, csv_file_location):\n",
    "    \"\"\"\n",
    "    Lädt Aktiendaten von Yahoo Finance herunter und speichert sie als CSV.\n",
    "    \n",
    "    Args:\n",
    "        ticker_symbol (str): Das Ticker-Symbol der Aktie (z.B. \"MSFT\" für Microsoft)\n",
    "        time_period (str): Der Zeitraum für die Daten (z.B. \"5y\", \"1mo\", \"max\")\n",
    "        csv_file_location (str): Der Dateipfad der csv-Datei. Diese Datei sollte im Repo-Ordner 'data' liegen\n",
    "    \n",
    "    Returns:\n",
    "        pandas.DataFrame: Der heruntergeladene Datensatz\n",
    "    \"\"\"\n",
    "    \n",
    "    # Ticker-Objekt abrufen\n",
    "    stock = yf.Ticker(ticker_symbol)\n",
    "    \n",
    "    # Historische Daten herunterladen\n",
    "    hist_data = stock.history(period=time_period)\n",
    "    \n",
    "    # Daten als CSV speichern\n",
    "    hist_data.to_csv(csv_file_location)\n",
    "    print(f\"Daten wurden in {csv_file_location} gespeichert.\")\n",
    "\n",
    "    # Konvertiere alle numerischen Spalten zu Float\n",
    "    for col in hist_data.columns:\n",
    "        hist_data[col] = pd.to_numeric(hist_data[col], errors='coerce')\n",
    "\n",
    "    # Allgemeine Infos\n",
    "    print(f\"+{'-'*48}+\")\n",
    "    print(f\"|{'Allgemeine Informationen der Aktien-Daten':^48}|\")\n",
    "    print(f\"+{'-'*48}+ \\n\")\n",
    "    hist_data.info()\n",
    "    \n",
    "    # Statistische Zusammenfassung\n",
    "    data_zusammenfassung = hist_data.describe()\n",
    "    print(f\"\\n\\n\")\n",
    "    print(f\"+{'-'*48}+\")\n",
    "    print(f\"|{'Statistische Zusammenfassung der Aktien-Daten':^48}|\")\n",
    "    print(f\"+{'-'*48}+ \\n\")\n",
    "    print(data_zusammenfassung)\n",
    "\n",
    "    return hist_data, data_zusammenfassung\n",
    "\n",
    "\n",
    "# Verwendung der Funktion\n",
    "if __name__ == \"__main__\":\n",
    "    # Microsoft Daten für 5 Jahre herunterladen\n",
    "    msft_data = download_stock_data(\"MSFT\", \"max\", \"/Users/kaihufnagel/Documents/BBA/6. Semester/SP BBA/Menden/THWS_Reihenanalysen/data/microsoft_aktien_daten.csv\", 1)"
   ]
  },
  {
   "cell_type": "code",
   "execution_count": null,
   "metadata": {},
   "outputs": [],
   "source": []
  }
 ],
 "metadata": {
  "kernelspec": {
   "display_name": "Python 3",
   "language": "python",
   "name": "python3"
  },
  "language_info": {
   "codemirror_mode": {
    "name": "ipython",
    "version": 3
   },
   "file_extension": ".py",
   "mimetype": "text/x-python",
   "name": "python",
   "nbconvert_exporter": "python",
   "pygments_lexer": "ipython3",
   "version": "3.9.6"
  }
 },
 "nbformat": 4,
 "nbformat_minor": 2
}
