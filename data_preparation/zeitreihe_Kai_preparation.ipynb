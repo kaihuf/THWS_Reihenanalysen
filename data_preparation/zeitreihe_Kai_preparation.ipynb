{
 "cells": [
  {
   "cell_type": "markdown",
   "metadata": {},
   "source": [
    "# Datenquelle\n",
    "### Einlesen der Daten"
   ]
  },
  {
   "cell_type": "code",
   "execution_count": 10,
   "metadata": {},
   "outputs": [],
   "source": [
    "import yfinance as yf\n",
    "import warnings\n",
    "\n",
    "def download_stock_data(ticker_symbol, time_period, csv_filename):\n",
    "    \"\"\"\n",
    "    Lädt Aktiendaten von Yahoo Finance herunter und speichert sie als CSV.\n",
    "    \n",
    "    Args:\n",
    "        ticker_symbol (str): Das Ticker-Symbol der Aktie (z.B. \"MSFT\" für Microsoft)\n",
    "        time_period (str): Der Zeitraum für die Daten (z.B. \"5y\", \"1mo\", \"max\")\n",
    "        csv_filename (str): Der Dateiname zum Speichern der CSV-Datei\n",
    "    \n",
    "    Returns:\n",
    "        pandas.DataFrame: Der heruntergeladene Datensatz\n",
    "    \"\"\"\n",
    "    # Warnungen unterdrücken\n",
    "    warnings.filterwarnings('ignore')\n",
    "    \n",
    "    # Ticker-Objekt abrufen\n",
    "    stock = yf.Ticker(ticker_symbol)\n",
    "    \n",
    "    # Historische Daten herunterladen\n",
    "    hist_data = stock.history(period=time_period)\n",
    "    \n",
    "    # Die ersten Zeilen der Daten anzeigen\n",
    "    print(f\"Daten für {ticker_symbol} über {time_period} heruntergeladen:\")\n",
    "    print(hist_data.head())\n",
    "    \n",
    "    # Daten als CSV speichern\n",
    "    hist_data.to_csv(csv_filename)\n",
    "    print(f\"Daten wurden in {csv_filename} gespeichert.\")\n",
    "    \n",
    "    return hist_data"
   ]
  },
  {
   "cell_type": "markdown",
   "metadata": {},
   "source": [
    "### Ausführen der Funktion"
   ]
  },
  {
   "cell_type": "code",
   "execution_count": 11,
   "metadata": {},
   "outputs": [
    {
     "name": "stdout",
     "output_type": "stream",
     "text": [
      "Daten für MSFT über 5y heruntergeladen:\n",
      "                                 Open        High         Low       Close  \\\n",
      "Date                                                                        \n",
      "2020-05-07 00:00:00-04:00  176.283621  176.647354  174.761711  175.738037   \n",
      "2020-05-08 00:00:00-04:00  177.058931  177.078079  175.508306  176.771774   \n",
      "2020-05-11 00:00:00-04:00  175.307248  179.480547  175.020106  178.743530   \n",
      "2020-05-12 00:00:00-04:00  178.800992  179.030705  174.493688  174.694687   \n",
      "2020-05-13 00:00:00-04:00  174.732990  176.168759  168.980337  172.052887   \n",
      "\n",
      "                             Volume  Dividends  Stock Splits  \n",
      "Date                                                          \n",
      "2020-05-07 00:00:00-04:00  28316000        0.0           0.0  \n",
      "2020-05-08 00:00:00-04:00  30877800        0.0           0.0  \n",
      "2020-05-11 00:00:00-04:00  30892700        0.0           0.0  \n",
      "2020-05-12 00:00:00-04:00  32038200        0.0           0.0  \n",
      "2020-05-13 00:00:00-04:00  44711500        0.0           0.0  \n",
      "Daten wurden in microsoft_aktien_daten.csv gespeichert.\n"
     ]
    }
   ],
   "source": [
    "# Verwendung der Funktion\n",
    "if __name__ == \"__main__\":\n",
    "    # Microsoft Daten für 5 Jahre herunterladen\n",
    "    msft_data = download_stock_data(\"MSFT\", \"5y\", \"microsoft_aktien_daten.csv\")"
   ]
  },
  {
   "cell_type": "markdown",
   "metadata": {},
   "source": [
    "### Exploration der Daten\n",
    "Anzahl der Zeilen und Spalten"
   ]
  },
  {
   "cell_type": "code",
   "execution_count": 12,
   "metadata": {},
   "outputs": [
    {
     "name": "stdout",
     "output_type": "stream",
     "text": [
      "Der Datensatz enthält 1256 Zeilen und 8 Spalten.\n"
     ]
    }
   ],
   "source": [
    "import pandas as pd\n",
    "\n",
    "df = pd.read_csv('microsoft_aktien_daten.csv')\n",
    "rows, columns = df.shape\n",
    "print(f\"Der Datensatz enthält {rows} Zeilen und {columns} Spalten.\")"
   ]
  },
  {
   "cell_type": "code",
   "execution_count": null,
   "metadata": {},
   "outputs": [],
   "source": []
  }
 ],
 "metadata": {
  "kernelspec": {
   "display_name": "Python 3",
   "language": "python",
   "name": "python3"
  },
  "language_info": {
   "codemirror_mode": {
    "name": "ipython",
    "version": 3
   },
   "file_extension": ".py",
   "mimetype": "text/x-python",
   "name": "python",
   "nbconvert_exporter": "python",
   "pygments_lexer": "ipython3",
   "version": "3.9.6"
  }
 },
 "nbformat": 4,
 "nbformat_minor": 2
}
