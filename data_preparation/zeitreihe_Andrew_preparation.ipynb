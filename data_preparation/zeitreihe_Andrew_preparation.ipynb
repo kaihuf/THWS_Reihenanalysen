{
 "cells": [
  {
   "cell_type": "code",
   "execution_count": 13,
   "id": "467d133d",
   "metadata": {},
   "outputs": [
    {
     "data": {
      "text/html": [
       "<div>\n",
       "<style scoped>\n",
       "    .dataframe tbody tr th:only-of-type {\n",
       "        vertical-align: middle;\n",
       "    }\n",
       "\n",
       "    .dataframe tbody tr th {\n",
       "        vertical-align: top;\n",
       "    }\n",
       "\n",
       "    .dataframe thead th {\n",
       "        text-align: right;\n",
       "    }\n",
       "</style>\n",
       "<table border=\"1\" class=\"dataframe\">\n",
       "  <thead>\n",
       "    <tr style=\"text-align: right;\">\n",
       "      <th></th>\n",
       "      <th>Date</th>\n",
       "      <th>Open</th>\n",
       "      <th>High</th>\n",
       "      <th>Low</th>\n",
       "      <th>Close</th>\n",
       "      <th>Adj Close</th>\n",
       "      <th>Volume</th>\n",
       "    </tr>\n",
       "  </thead>\n",
       "  <tbody>\n",
       "    <tr>\n",
       "      <th>0</th>\n",
       "      <td>May 7, 2025</td>\n",
       "      <td>54,500.00</td>\n",
       "      <td>55,000.00</td>\n",
       "      <td>54,300.00</td>\n",
       "      <td>54,600.00</td>\n",
       "      <td>54,600.00</td>\n",
       "      <td>17,136,991</td>\n",
       "    </tr>\n",
       "    <tr>\n",
       "      <th>1</th>\n",
       "      <td>May 2, 2025</td>\n",
       "      <td>55,000.00</td>\n",
       "      <td>55,500.00</td>\n",
       "      <td>54,200.00</td>\n",
       "      <td>54,300.00</td>\n",
       "      <td>54,300.00</td>\n",
       "      <td>22,454,204</td>\n",
       "    </tr>\n",
       "    <tr>\n",
       "      <th>2</th>\n",
       "      <td>Apr 30, 2025</td>\n",
       "      <td>55,900.00</td>\n",
       "      <td>56,000.00</td>\n",
       "      <td>55,300.00</td>\n",
       "      <td>55,500.00</td>\n",
       "      <td>55,500.00</td>\n",
       "      <td>13,014,189</td>\n",
       "    </tr>\n",
       "    <tr>\n",
       "      <th>3</th>\n",
       "      <td>Apr 29, 2025</td>\n",
       "      <td>55,700.00</td>\n",
       "      <td>56,500.00</td>\n",
       "      <td>55,600.00</td>\n",
       "      <td>55,800.00</td>\n",
       "      <td>55,800.00</td>\n",
       "      <td>10,295,518</td>\n",
       "    </tr>\n",
       "    <tr>\n",
       "      <th>4</th>\n",
       "      <td>Apr 28, 2025</td>\n",
       "      <td>55,800.00</td>\n",
       "      <td>55,900.00</td>\n",
       "      <td>55,500.00</td>\n",
       "      <td>55,800.00</td>\n",
       "      <td>55,800.00</td>\n",
       "      <td>9,341,518</td>\n",
       "    </tr>\n",
       "  </tbody>\n",
       "</table>\n",
       "</div>"
      ],
      "text/plain": [
       "           Date       Open       High        Low     Close  Adj Close   \\\n",
       "0   May 7, 2025  54,500.00  55,000.00  54,300.00  54,600.00  54,600.00   \n",
       "1   May 2, 2025  55,000.00  55,500.00  54,200.00  54,300.00  54,300.00   \n",
       "2  Apr 30, 2025  55,900.00  56,000.00  55,300.00  55,500.00  55,500.00   \n",
       "3  Apr 29, 2025  55,700.00  56,500.00  55,600.00  55,800.00  55,800.00   \n",
       "4  Apr 28, 2025  55,800.00  55,900.00  55,500.00  55,800.00  55,800.00   \n",
       "\n",
       "       Volume  \n",
       "0  17,136,991  \n",
       "1  22,454,204  \n",
       "2  13,014,189  \n",
       "3  10,295,518  \n",
       "4   9,341,518  "
      ]
     },
     "execution_count": 13,
     "metadata": {},
     "output_type": "execute_result"
    }
   ],
   "source": [
    "import pandas as pd\n",
    "\n",
    "file_path = r\"C:\\Users\\andre\\OneDrive\\Documents\\hochschule\\1.1. 6. Semester\\Business Analytics Schwerpunkt\\Menden\\VS_code_projekt\\THWS_Reihenanalysen\\StockData_Samsung.csv\"\n",
    "df = pd.read_csv(file_path, sep= \";\")\n",
    "\n",
    "(df.head(5))\n"
   ]
  },
  {
   "cell_type": "code",
   "execution_count": 14,
   "id": "0587cec6",
   "metadata": {},
   "outputs": [
    {
     "data": {
      "text/html": [
       "<div>\n",
       "<style scoped>\n",
       "    .dataframe tbody tr th:only-of-type {\n",
       "        vertical-align: middle;\n",
       "    }\n",
       "\n",
       "    .dataframe tbody tr th {\n",
       "        vertical-align: top;\n",
       "    }\n",
       "\n",
       "    .dataframe thead th {\n",
       "        text-align: right;\n",
       "    }\n",
       "</style>\n",
       "<table border=\"1\" class=\"dataframe\">\n",
       "  <thead>\n",
       "    <tr style=\"text-align: right;\">\n",
       "      <th></th>\n",
       "      <th>Date</th>\n",
       "      <th>Open</th>\n",
       "      <th>High</th>\n",
       "      <th>Low</th>\n",
       "      <th>Close</th>\n",
       "      <th>Adj Close</th>\n",
       "      <th>Volume</th>\n",
       "    </tr>\n",
       "  </thead>\n",
       "  <tbody>\n",
       "    <tr>\n",
       "      <th>0</th>\n",
       "      <td>May 7, 2025</td>\n",
       "      <td>54,500.00</td>\n",
       "      <td>55,000.00</td>\n",
       "      <td>54,300.00</td>\n",
       "      <td>54,600.00</td>\n",
       "      <td>54,600.00</td>\n",
       "      <td>17,136,991</td>\n",
       "    </tr>\n",
       "    <tr>\n",
       "      <th>1</th>\n",
       "      <td>May 2, 2025</td>\n",
       "      <td>55,000.00</td>\n",
       "      <td>55,500.00</td>\n",
       "      <td>54,200.00</td>\n",
       "      <td>54,300.00</td>\n",
       "      <td>54,300.00</td>\n",
       "      <td>22,454,204</td>\n",
       "    </tr>\n",
       "    <tr>\n",
       "      <th>2</th>\n",
       "      <td>Apr 30, 2025</td>\n",
       "      <td>55,900.00</td>\n",
       "      <td>56,000.00</td>\n",
       "      <td>55,300.00</td>\n",
       "      <td>55,500.00</td>\n",
       "      <td>55,500.00</td>\n",
       "      <td>13,014,189</td>\n",
       "    </tr>\n",
       "    <tr>\n",
       "      <th>3</th>\n",
       "      <td>Apr 29, 2025</td>\n",
       "      <td>55,700.00</td>\n",
       "      <td>56,500.00</td>\n",
       "      <td>55,600.00</td>\n",
       "      <td>55,800.00</td>\n",
       "      <td>55,800.00</td>\n",
       "      <td>10,295,518</td>\n",
       "    </tr>\n",
       "    <tr>\n",
       "      <th>4</th>\n",
       "      <td>Apr 28, 2025</td>\n",
       "      <td>55,800.00</td>\n",
       "      <td>55,900.00</td>\n",
       "      <td>55,500.00</td>\n",
       "      <td>55,800.00</td>\n",
       "      <td>55,800.00</td>\n",
       "      <td>9,341,518</td>\n",
       "    </tr>\n",
       "  </tbody>\n",
       "</table>\n",
       "</div>"
      ],
      "text/plain": [
       "           Date       Open       High        Low     Close  Adj Close   \\\n",
       "0   May 7, 2025  54,500.00  55,000.00  54,300.00  54,600.00  54,600.00   \n",
       "1   May 2, 2025  55,000.00  55,500.00  54,200.00  54,300.00  54,300.00   \n",
       "2  Apr 30, 2025  55,900.00  56,000.00  55,300.00  55,500.00  55,500.00   \n",
       "3  Apr 29, 2025  55,700.00  56,500.00  55,600.00  55,800.00  55,800.00   \n",
       "4  Apr 28, 2025  55,800.00  55,900.00  55,500.00  55,800.00  55,800.00   \n",
       "\n",
       "       Volume  \n",
       "0  17,136,991  \n",
       "1  22,454,204  \n",
       "2  13,014,189  \n",
       "3  10,295,518  \n",
       "4   9,341,518  "
      ]
     },
     "execution_count": 14,
     "metadata": {},
     "output_type": "execute_result"
    }
   ],
   "source": [
    "# Drop rows where any column contains the word 'Dividend'\n",
    "df = df[~df.apply(lambda row: row.astype(str).str.contains(\"Dividend\").any(), axis=1)]\n",
    "\n",
    "(df.head(5))"
   ]
  },
  {
   "cell_type": "code",
   "execution_count": 17,
   "id": "58a4ca30",
   "metadata": {},
   "outputs": [
    {
     "name": "stdout",
     "output_type": "stream",
     "text": [
      "Checking for missing values\n"
     ]
    },
    {
     "data": {
      "text/plain": [
       "Date          0\n",
       "Open          0\n",
       "High          0\n",
       "Low           0\n",
       "Close         0\n",
       "Adj Close     0\n",
       "Volume        0\n",
       "dtype: int64"
      ]
     },
     "execution_count": 17,
     "metadata": {},
     "output_type": "execute_result"
    }
   ],
   "source": [
    "#checking for missing values\n",
    "print(\"Checking for missing values\")\n",
    "df.isnull().sum()\n",
    "\n",
    "\n"
   ]
  },
  {
   "cell_type": "code",
   "execution_count": 18,
   "id": "a6bea11b",
   "metadata": {},
   "outputs": [
    {
     "name": "stdout",
     "output_type": "stream",
     "text": [
      "Checking different data types\n"
     ]
    },
    {
     "data": {
      "text/plain": [
       "Date          object\n",
       "Open          object\n",
       "High          object\n",
       "Low           object\n",
       "Close         object\n",
       "Adj Close     object\n",
       "Volume        object\n",
       "dtype: object"
      ]
     },
     "execution_count": 18,
     "metadata": {},
     "output_type": "execute_result"
    }
   ],
   "source": [
    "#checking different data types\n",
    "print(\"Checking different data types\")\n",
    "df.dtypes"
   ]
  },
  {
   "cell_type": "code",
   "execution_count": 19,
   "id": "f2446ec4",
   "metadata": {},
   "outputs": [],
   "source": [
    "#Converting Date to datetime\n",
    "df['Date'] = pd.to_datetime(df['Date'])"
   ]
  },
  {
   "cell_type": "code",
   "execution_count": 21,
   "id": "53a5bf4c",
   "metadata": {},
   "outputs": [],
   "source": [
    "df.columns = df.columns.str.strip()\n"
   ]
  },
  {
   "cell_type": "code",
   "execution_count": 23,
   "id": "77ccad56",
   "metadata": {},
   "outputs": [
    {
     "name": "stdout",
     "output_type": "stream",
     "text": [
      "['Date', 'Open', 'High', 'Low', 'Close', 'Adj Close', 'Volume']\n"
     ]
    }
   ],
   "source": [
    "print(df.columns.tolist())\n"
   ]
  },
  {
   "cell_type": "code",
   "execution_count": 31,
   "id": "73d0d344",
   "metadata": {},
   "outputs": [],
   "source": [
    "# OR Option 2: Fill missing volume with zeros\n",
    "df['Volume'] = df['Volume'].fillna(0)"
   ]
  },
  {
   "cell_type": "code",
   "execution_count": 32,
   "id": "406647b5",
   "metadata": {},
   "outputs": [
    {
     "name": "stdout",
     "output_type": "stream",
     "text": [
      "Number of rows with NaN values: 0\n",
      "\n",
      "Rows containing NaN values:\n",
      "Empty DataFrame\n",
      "Columns: [Date, Open, High, Low, Close, Adj Close, Volume]\n",
      "Index: []\n",
      "\n",
      "Indices of rows with NaN values:\n",
      "[]\n",
      "\n",
      "Count of NaN values in each column:\n",
      "Open         0\n",
      "High         0\n",
      "Low          0\n",
      "Close        0\n",
      "Adj Close    0\n",
      "Volume       0\n",
      "dtype: int64\n"
     ]
    }
   ],
   "source": [
    "import pandas as pd\n",
    "import numpy as np  # Make sure this import is included\n",
    "\n",
    "# Assuming df is your dataframe\n",
    "cols_to_convert = ['Open', 'High', 'Low', 'Close', 'Adj Close', 'Volume']\n",
    "\n",
    "for col in cols_to_convert:\n",
    "    # Step 1: Convert to string\n",
    "    df[col] = df[col].astype(str)\n",
    "    \n",
    "    # Step 2: Replace commas\n",
    "    df[col] = df[col].str.replace(\",\", \"\", regex=False)\n",
    "    \n",
    "    # Step 3: Replace dashes and other non-numeric values with NaN\n",
    "    df[col] = df[col].replace(['-', 'n/a', 'nan', 'null', 'None', 'NA'], np.nan)\n",
    "    \n",
    "    # Step 4: Convert to float, errors='coerce' will convert non-convertible values to NaN\n",
    "    df[col] = pd.to_numeric(df[col], errors='coerce')\n",
    "\n",
    "# Optional: Check which rows have NaN values after conversion\n",
    "print(f\"Number of rows with NaN values: {df[cols_to_convert].isna().any(axis=1).sum()}\")\n",
    "\n",
    "# Show rows with NaN values\n",
    "nan_rows = df[df[cols_to_convert].isna().any(axis=1)]\n",
    "print(\"\\nRows containing NaN values:\")\n",
    "print(nan_rows)\n",
    "\n",
    "# Optionally, show index positions of rows with NaN values\n",
    "nan_indices = df[df[cols_to_convert].isna().any(axis=1)].index.tolist()\n",
    "print(\"\\nIndices of rows with NaN values:\")\n",
    "print(nan_indices)\n",
    "\n",
    "# Check which columns have NaN values and how many in each column\n",
    "print(\"\\nCount of NaN values in each column:\")\n",
    "print(df[cols_to_convert].isna().sum())"
   ]
  },
  {
   "cell_type": "code",
   "execution_count": 34,
   "id": "4d50e398",
   "metadata": {},
   "outputs": [
    {
     "name": "stdout",
     "output_type": "stream",
     "text": [
      "Checking different data types\n"
     ]
    },
    {
     "data": {
      "text/plain": [
       "Date         datetime64[ns]\n",
       "Open                float64\n",
       "High                float64\n",
       "Low                 float64\n",
       "Close               float64\n",
       "Adj Close           float64\n",
       "Volume              float64\n",
       "dtype: object"
      ]
     },
     "execution_count": 34,
     "metadata": {},
     "output_type": "execute_result"
    }
   ],
   "source": [
    "#checking different data types\n",
    "print(\"Checking different data types\")\n",
    "df.dtypes"
   ]
  },
  {
   "cell_type": "code",
   "execution_count": null,
   "id": "d3de7289",
   "metadata": {},
   "outputs": [],
   "source": [
    "#readjusting order of data\n",
    "df = df.sort_values('Date').reset_index(drop=True)\n"
   ]
  },
  {
   "cell_type": "code",
   "execution_count": 37,
   "id": "90ab16bb",
   "metadata": {},
   "outputs": [
    {
     "data": {
      "text/plain": [
       "<bound method NDFrame.head of            Date     Open     High      Low    Close  Adj Close      Volume\n",
       "0    2020-05-08  49100.0  49350.0  48800.0  48800.0   42933.67  15319700.0\n",
       "1    2020-05-11  48900.0  49250.0  48300.0  48400.0   42581.76  16357743.0\n",
       "2    2020-05-12  48400.0  48500.0  47550.0  47900.0   42141.87  23433590.0\n",
       "3    2020-05-13  47250.0  48550.0  47200.0  48550.0   42713.73  20223277.0\n",
       "4    2020-05-14  47750.0  48100.0  47650.0  48000.0   42229.84  19305974.0\n",
       "...         ...      ...      ...      ...      ...        ...         ...\n",
       "1221 2025-04-28  55800.0  55900.0  55500.0  55800.0   55800.00   9341518.0\n",
       "1222 2025-04-29  55700.0  56500.0  55600.0  55800.0   55800.00  10295518.0\n",
       "1223 2025-04-30  55900.0  56000.0  55300.0  55500.0   55500.00  13014189.0\n",
       "1224 2025-05-02  55000.0  55500.0  54200.0  54300.0   54300.00  22454204.0\n",
       "1225 2025-05-07  54500.0  55000.0  54300.0  54600.0   54600.00  17136991.0\n",
       "\n",
       "[1226 rows x 7 columns]>"
      ]
     },
     "execution_count": 37,
     "metadata": {},
     "output_type": "execute_result"
    }
   ],
   "source": [
    "(df.head)"
   ]
  },
  {
   "cell_type": "code",
   "execution_count": 38,
   "id": "4305aeaa",
   "metadata": {},
   "outputs": [
    {
     "data": {
      "image/png": "[encoded data removed]",
      "text/plain": [
       "<Figure size 640x480 with 1 Axes>"
      ]
     },
     "metadata": {},
     "output_type": "display_data"
    }
   ],
   "source": [
    "import matplotlib.pyplot as plt\n",
    "\n",
    "df.plot(x='Date', y='Close', title='Samsung Stock Closing Price')\n",
    "plt.show()\n"
   ]
  },
  {
   "cell_type": "code",
   "execution_count": 39,
   "id": "a145ba8f",
   "metadata": {},
   "outputs": [
    {
     "name": "stdout",
     "output_type": "stream",
     "text": [
      "Basic Stock Statistics:\n",
      "                          Metric        Value\n",
      "0           Median Closing Price     68600.00\n",
      "1         Average Trading Volume  17401476.70\n",
      "2                      Max Price     96800.00\n",
      "3                      Min Price     47200.00\n",
      "4            Average Daily Range      1232.10\n",
      "5           Average Daily Return        -0.07\n",
      "6  Volatility (Std Dev of Close)      9872.42\n",
      "7     Days with Positive Returns       519.00\n",
      "8     Days with Negative Returns       636.00\n",
      "\n",
      "Monthly Average Closing Prices:\n",
      "Month\n",
      "2024-12    54035.000000\n",
      "2025-01    54361.111111\n",
      "2025-02    55665.000000\n",
      "2025-03    57260.000000\n",
      "2025-04    55686.363636\n",
      "2025-05    54450.000000\n",
      "Freq: M, Name: Close, dtype: float64\n"
     ]
    }
   ],
   "source": [
    "# Basic stock statistics\n",
    "stats = {\n",
    "    \"Median Closing Price\": df['Close'].median(),\n",
    "    \"Average Trading Volume\": df['Volume'].mean(),\n",
    "    \"Max Price\": df['High'].max(),\n",
    "    \"Min Price\": df['Low'].min(),\n",
    "    \"Average Daily Range\": (df['High'] - df['Low']).mean(),\n",
    "    \"Average Daily Return\": ((df['Close'] - df['Open']) / df['Open'] * 100).mean(),\n",
    "    \"Volatility (Std Dev of Close)\": df['Close'].std(),\n",
    "    \"Days with Positive Returns\": (df['Close'] > df['Open']).sum(),\n",
    "    \"Days with Negative Returns\": (df['Close'] < df['Open']).sum()\n",
    "}\n",
    "\n",
    "# Create a DataFrame for nicer display\n",
    "stats_df = pd.DataFrame(list(stats.items()), columns=['Metric', 'Value'])\n",
    "\n",
    "# Format values for better readability\n",
    "stats_df['Value'] = stats_df['Value'].apply(lambda x: f\"{x:.2f}\" if isinstance(x, float) else x)\n",
    "\n",
    "# Display statistics\n",
    "print(\"Basic Stock Statistics:\")\n",
    "print(stats_df)\n",
    "\n",
    "# Calculate monthly average closing prices if you have enough data\n",
    "if len(df) > 30:\n",
    "    print(\"\\nMonthly Average Closing Prices:\")\n",
    "    df['Month'] = df['Date'].dt.to_period('M')\n",
    "    monthly_avg = df.groupby('Month')['Close'].mean()\n",
    "    print(monthly_avg.tail(6))  # Show last 6 months"
   ]
  },
  {
   "cell_type": "code",
   "execution_count": 40,
   "id": "20c66ac2",
   "metadata": {},
   "outputs": [],
   "source": [
    "import pandas as pd\n",
    "\n",
    "# Assuming your cleaned data is in a DataFrame called 'df'\n",
    "\n",
    "# Specify the file path where you want to save the CSV\n",
    "file_path = r\"C:\\Users\\andre\\OneDrive\\Documents\\hochschule\\1.1. 6. Semester\\Business Analytics Schwerpunkt\\Menden\\VS_code_projekt\\THWS_Reihenanalysen\\StockData_Samsung_final.csv\"\n",
    "\n",
    "# Save the cleaned and modified data to the specified file path\n",
    "df.to_csv(file_path, index=False)\n"
   ]
  }
 ],
 "metadata": {
  "kernelspec": {
   "display_name": "base",
   "language": "python",
   "name": "python3"
  },
  "language_info": {
   "codemirror_mode": {
    "name": "ipython",
    "version": 3
   },
   "file_extension": ".py",
   "mimetype": "text/x-python",
   "name": "python",
   "nbconvert_exporter": "python",
   "pygments_lexer": "ipython3",
   "version": "3.9.13"
  }
 },
 "nbformat": 4,
 "nbformat_minor": 5
}
